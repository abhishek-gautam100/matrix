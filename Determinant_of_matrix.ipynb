{
  "nbformat": 4,
  "nbformat_minor": 0,
  "metadata": {
    "colab": {
      "provenance": []
    },
    "kernelspec": {
      "name": "python3",
      "display_name": "Python 3"
    },
    "language_info": {
      "name": "python"
    }
  },
  "cells": [
    {
      "cell_type": "code",
      "execution_count": null,
      "metadata": {
        "id": "qDO2BwRGEJ6U"
      },
      "outputs": [],
      "source": [
        "#Find determinant of Matrix: n*n without using built-in determinant function"
      ]
    },
    {
      "cell_type": "code",
      "source": [
        "!pip install numpy\n",
        "import numpy as np\n",
        "\n",
        "def inp():\n",
        "  m=int(input(\"Enter no. of rows of matrix \"))\n",
        "  n=int(input(\"Enter no. of columns of matrix \"))\n",
        "  l1=[]\n",
        "\n",
        "  for i in range(m):\n",
        "    x=[float(input(f\"Enter row {i+1} element \"))  for j in range(n)]\n",
        "    l1.append(x)\n",
        "    x=[]\n",
        "\n",
        "  return l1,m,n\n",
        "\n",
        "\n",
        "def main():\n",
        "  d=1.0;ss=True\n",
        "  list1,row,column=inp()\n",
        "  print(\"Input Matrix:\")\n",
        "  #using numpy to show input list in matrix form\n",
        "  matrix1 = np.array(list1).reshape(row,column)\n",
        "  print(matrix1)\n",
        "\n",
        "  for i in range(column):\n",
        "    #check if the pivot element is zero and then shift row\n",
        "    if list1[i][i]==0:\n",
        "      for l in range(i+1,row):\n",
        "        if list1[l][i]!=0 and ss==True:\n",
        "          for p in range(column):\n",
        "            #Interchanging of two different row elements\n",
        "            list1[i][p],list1[l][p]=list1[l][p],list1[i][p]\n",
        "            ss=False\n",
        "\n",
        "      #once the row is shifted prevent the next rows iteration for shift\n",
        "      ss=True\n",
        "      #with row shift determinant sign changes to -1\n",
        "      d*=-1\n",
        "\n",
        "\n",
        "    for j in range(i+1,row):\n",
        "        #Check if the element to be reduced is already 0\n",
        "       if list1[j][i]!=0:\n",
        "         #find factor to be multiplied\n",
        "         factor=list1[j][i]/list1[i][i]\n",
        "\n",
        "        #Row reduction with factor\n",
        "         for k in range(i,column):\n",
        "           list1[j][k]=list1[j][k]-factor*list1[i][k]\n",
        "\n",
        "       else:\n",
        "         #element to be reduced is already 0, directly iterate next row elements\n",
        "         continue\n",
        "\n",
        "\n",
        "  for i in range(row):\n",
        "    #product of diagonal elements of matrix\n",
        "    d*=list1[i][i]\n",
        "\n",
        "  print(\"Matrix reduced to Upper Triangular form:\")\n",
        "  #using numpy to show Upper triangular list in matrix form\n",
        "  matrix2 = np.array(list1).reshape(row,column)\n",
        "  print(matrix2)\n",
        "  print(\"Determinant: \",d)\n",
        "\n",
        "\n",
        "main()"
      ],
      "metadata": {
        "id": "V9VRYVkIEMUu"
      },
      "execution_count": null,
      "outputs": []
    },
    {
      "cell_type": "code",
      "source": [],
      "metadata": {
        "id": "fE2gdGyiEMXE"
      },
      "execution_count": null,
      "outputs": []
    },
    {
      "cell_type": "code",
      "source": [],
      "metadata": {
        "id": "2IIYG3eNEMag"
      },
      "execution_count": null,
      "outputs": []
    }
  ]
}